{
 "cells": [
  {
   "cell_type": "code",
   "execution_count": 8,
   "metadata": {},
   "outputs": [
    {
     "name": "stdout",
     "output_type": "stream",
     "text": [
      "WAZZAAAAAP\n"
     ]
    }
   ],
   "source": [
    "class Example():\n",
    "    def hi():\n",
    "        print(\"Howdy\")\n",
    "    def hello():\n",
    "        print(\"WAZZAAAAAP\")\n",
    "        \n",
    "Example.hello()"
   ]
  },
  {
   "cell_type": "code",
   "execution_count": 9,
   "metadata": {},
   "outputs": [],
   "source": [
    "#Blueprint\n",
    "class Sims():\n",
    "    def __init__(self, name, sex, hobby):\n",
    "        self.name = name\n",
    "        self.sex = sex\n",
    "        self.hobby = hobby\n",
    "    \n",
    "    "
   ]
  },
  {
   "cell_type": "code",
   "execution_count": 10,
   "metadata": {},
   "outputs": [],
   "source": [
    "andy = Sims(\"Andy\", \"Male\", \"Acting\")\n",
    "jim = Sims(\"Jim\", \"Male\", \"Juggling\")"
   ]
  },
  {
   "cell_type": "code",
   "execution_count": 11,
   "metadata": {},
   "outputs": [
    {
     "data": {
      "text/plain": [
       "'Acting'"
      ]
     },
     "execution_count": 11,
     "metadata": {},
     "output_type": "execute_result"
    }
   ],
   "source": [
    "andy.hobby"
   ]
  },
  {
   "cell_type": "code",
   "execution_count": 15,
   "metadata": {},
   "outputs": [],
   "source": [
    "class Enemies:\n",
    "    def __init__(self, hp, strenght, mspeed, aspeed):\n",
    "        self.hp = hp\n",
    "        self.strenght = strenght\n",
    "        self.mspeed = mspeed\n",
    "        self.aspeed = aspeed\n",
    "        \n",
    "    def death(self):\n",
    "        while self.hp <= 0:\n",
    "            print(\"deadduuuruuu!\")\n",
    "            break\n",
    "\n",
    "        "
   ]
  },
  {
   "cell_type": "code",
   "execution_count": 17,
   "metadata": {},
   "outputs": [],
   "source": [
    "class Wizard(Enemies):\n",
    "    def skills(self):\n",
    "        print(\"BOOM\")"
   ]
  },
  {
   "cell_type": "code",
   "execution_count": 20,
   "metadata": {},
   "outputs": [],
   "source": [
    "Gandalff = Wizard(2,10,6,9)"
   ]
  },
  {
   "cell_type": "code",
   "execution_count": 21,
   "metadata": {},
   "outputs": [
    {
     "data": {
      "text/plain": [
       "10"
      ]
     },
     "execution_count": 21,
     "metadata": {},
     "output_type": "execute_result"
    }
   ],
   "source": [
    "Gandalff.strenght"
   ]
  },
  {
   "cell_type": "code",
   "execution_count": 5,
   "metadata": {},
   "outputs": [],
   "source": [
    "poppy = Enemies(490, 78, 335, 0.88)"
   ]
  },
  {
   "cell_type": "code",
   "execution_count": 6,
   "metadata": {},
   "outputs": [
    {
     "name": "stdout",
     "output_type": "stream",
     "text": [
      "-10\n",
      "deadduuuruuu!\n"
     ]
    }
   ],
   "source": [
    "poppy.hp -= 500\n",
    "print(poppy.hp)\n",
    "Enemies.death(poppy)"
   ]
  },
  {
   "cell_type": "code",
   "execution_count": null,
   "metadata": {},
   "outputs": [],
   "source": []
  },
  {
   "cell_type": "code",
   "execution_count": null,
   "metadata": {},
   "outputs": [],
   "source": []
  }
 ],
 "metadata": {
  "kernelspec": {
   "display_name": "Python 3",
   "language": "python",
   "name": "python3"
  },
  "language_info": {
   "codemirror_mode": {
    "name": "ipython",
    "version": 3
   },
   "file_extension": ".py",
   "mimetype": "text/x-python",
   "name": "python",
   "nbconvert_exporter": "python",
   "pygments_lexer": "ipython3",
   "version": "3.7.4"
  }
 },
 "nbformat": 4,
 "nbformat_minor": 2
}
